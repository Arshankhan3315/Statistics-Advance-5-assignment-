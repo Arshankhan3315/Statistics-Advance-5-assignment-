{
 "cells": [
  {
   "cell_type": "markdown",
   "id": "b5ff7a26-fa97-4465-9129-e68d7ef2b176",
   "metadata": {},
   "source": [
    "# Statistics Advance-5 Assignment"
   ]
  },
  {
   "cell_type": "markdown",
   "id": "d86821d9-7260-477e-8dcc-dc0f8b0b4d4f",
   "metadata": {},
   "source": [
    "# Q1. Calculate the 95% confidence interval for a sample of data with a mean of 50 and a standard deviation of 5 using Python. Interpret the results."
   ]
  },
  {
   "cell_type": "code",
   "execution_count": 1,
   "id": "4e3b527e-118b-4ed2-ace3-24800ee5847f",
   "metadata": {},
   "outputs": [],
   "source": [
    "import scipy.stats as stats\n",
    "import math"
   ]
  },
  {
   "cell_type": "code",
   "execution_count": 2,
   "id": "9fc4831b-5571-4086-8f19-ccc4d3ace8ad",
   "metadata": {},
   "outputs": [],
   "source": [
    "sample_mean = 50  \n",
    "population_std = 5  \n",
    "sample_size = 100  \n",
    "confidence_level = 0.95  \n",
    "z_score = 1.96"
   ]
  },
  {
   "cell_type": "code",
   "execution_count": 3,
   "id": "cfca0444-8e99-4df2-8cdd-0bb73d0e7249",
   "metadata": {},
   "outputs": [],
   "source": [
    "margin_of_error = z_score * (population_std / math.sqrt(sample_size))"
   ]
  },
  {
   "cell_type": "code",
   "execution_count": 4,
   "id": "db30fb62-bd12-4915-b399-022f5f3d0bd4",
   "metadata": {},
   "outputs": [
    {
     "name": "stdout",
     "output_type": "stream",
     "text": [
      "95% Confidence Interval: (49.02, 50.98)\n"
     ]
    }
   ],
   "source": [
    "lower_bound = sample_mean - margin_of_error\n",
    "upper_bound = sample_mean + margin_of_error\n",
    "\n",
    "print(\"95% Confidence Interval: ({:.2f}, {:.2f})\".format(lower_bound, upper_bound))"
   ]
  },
  {
   "cell_type": "markdown",
   "id": "04d15aa7-4544-4f00-a160-0c6736e79186",
   "metadata": {},
   "source": [
    "# Q2. Conduct a chi-square goodness of fit test to determine if the distribution of colors of M&Ms in a bag matches the expected distribution of 20% blue, 20% orange, 20% green, 10% yellow, 10% red, and 20% brown. Use Python to perform the test with a significance level of 0.05."
   ]
  },
  {
   "cell_type": "markdown",
   "id": "e9b96290-771e-467f-a158-ebcc2f408d48",
   "metadata": {},
   "source": [
    "# Answer-2-"
   ]
  },
  {
   "cell_type": "code",
   "execution_count": 5,
   "id": "1cb7e33f-d608-4b61-b4b7-0e6e16f97203",
   "metadata": {},
   "outputs": [],
   "source": [
    "import numpy as np"
   ]
  },
  {
   "cell_type": "code",
   "execution_count": 6,
   "id": "0baa0afa-72e0-47f4-bca0-d4e49af22072",
   "metadata": {},
   "outputs": [],
   "source": [
    "expected_distribution = np.array([0.20, 0.20, 0.20, 0.10, 0.10, 0.20])\n",
    "observed_frequencies = np.array([25, 30, 20, 15, 12, 18])\n",
    "total_count = sum(observed_frequencies)\n",
    "expected_frequencies = total_count * expected_distribution\n",
    "chi2_stat, p_value = stats.chisquare(observed_frequencies, f_exp=expected_frequencies)\n",
    "degrees_of_freedom = len(expected_distribution) - 1\n",
    "critical_chi2_value = stats.chi2.ppf(1 - 0.05, degrees_of_freedom)\n",
    "is_significant = chi2_stat > critical_chi2_value"
   ]
  },
  {
   "cell_type": "code",
   "execution_count": 7,
   "id": "94880110-b2c4-4cc8-899e-02dced69acd7",
   "metadata": {},
   "outputs": [
    {
     "name": "stdout",
     "output_type": "stream",
     "text": [
      "Chi-square statistic: 4.458333333333334\n",
      "P-value: 0.48547757678054226\n",
      "Degrees of Freedom: 5\n",
      "Critical Chi-square Value: 11.070497693516351\n",
      "Is the result significant at 0.05 significance level? False\n"
     ]
    }
   ],
   "source": [
    "print(\"Chi-square statistic:\", chi2_stat)\n",
    "print(\"P-value:\", p_value)\n",
    "print(\"Degrees of Freedom:\", degrees_of_freedom)\n",
    "print(\"Critical Chi-square Value:\", critical_chi2_value)\n",
    "print(\"Is the result significant at 0.05 significance level?\", is_significant)"
   ]
  },
  {
   "cell_type": "markdown",
   "id": "1d457f2a-9f73-4ee7-902d-eb9dab862ac1",
   "metadata": {},
   "source": [
    "# Q3. Use Python to calculate the chi-square statistic and p-value for a contingency table with the following\n",
    "data:Group A,GroupB\n",
    "\n",
    "# Outcome 1 20 15\n",
    "# Outcome 2 10 25\n",
    "# Outcome 3 15 20\n",
    "\n",
    "# Interpret the results of the test"
   ]
  },
  {
   "cell_type": "code",
   "execution_count": 8,
   "id": "86b38839-3605-4f25-89cf-ca006d70fec4",
   "metadata": {},
   "outputs": [],
   "source": [
    "contingency_table = np.array([[20, 15],\n",
    "                              [10, 25],\n",
    "                              [15, 20]])\n",
    "\n",
    "chi2_stat, p_value, dof, expected = stats.chi2_contingency(contingency_table)"
   ]
  },
  {
   "cell_type": "code",
   "execution_count": 9,
   "id": "88363f95-cf77-4b99-8edb-8915c2ec55de",
   "metadata": {},
   "outputs": [
    {
     "name": "stdout",
     "output_type": "stream",
     "text": [
      "Chi-square statistic: 5.833333333333334\n",
      "P-value: 0.05411376622282158\n"
     ]
    }
   ],
   "source": [
    "print(\"Chi-square statistic:\", chi2_stat)\n",
    "print(\"P-value:\", p_value)"
   ]
  },
  {
   "cell_type": "markdown",
   "id": "4c8d4155-11f4-4533-98a5-2f662988fb18",
   "metadata": {},
   "source": [
    "# Q4. A study of the prevalence of smoking in a population of 500 individuals found that 60 individuals smoked. Use Python to calculate the 95% confidence interval for the true proportion of individuals in the population who smoke."
   ]
  },
  {
   "cell_type": "markdown",
   "id": "7dd9074c-ebc6-4b6b-a426-0ff9c34638e9",
   "metadata": {},
   "source": [
    "# Answer-4-"
   ]
  },
  {
   "cell_type": "code",
   "execution_count": 10,
   "id": "47adafa4-90df-43ac-9b23-032e1e7c0149",
   "metadata": {},
   "outputs": [],
   "source": [
    "sample_proportion = 60 / 500  \n",
    "sample_size = 500  \n",
    "confidence_level = 0.95  \n",
    "z_score = 1.96  \n",
    "margin_of_error = z_score * math.sqrt((sample_proportion * (1 - sample_proportion)) / sample_size)\n",
    "lower_bound = sample_proportion - margin_of_error\n",
    "upper_bound = sample_proportion + margin_of_error"
   ]
  },
  {
   "cell_type": "code",
   "execution_count": 11,
   "id": "3274026c-df20-4108-b9b5-c462ee95a6a6",
   "metadata": {},
   "outputs": [
    {
     "name": "stdout",
     "output_type": "stream",
     "text": [
      "95% Confidence Interval: (0.0915, 0.1485)\n"
     ]
    }
   ],
   "source": [
    "print(\"95% Confidence Interval: ({:.4f}, {:.4f})\".format(lower_bound, upper_bound))"
   ]
  },
  {
   "cell_type": "markdown",
   "id": "aeec631b-a809-4779-9985-2276c358a05d",
   "metadata": {},
   "source": [
    "# Q5. Calculate the 90% confidence interval for a sample of data with a mean of 75 and a standard deviation of 12 using Python. Interpret the results."
   ]
  },
  {
   "cell_type": "markdown",
   "id": "1e7afd22-170a-49b1-8162-789dd791dc95",
   "metadata": {},
   "source": [
    "# Answer-5-"
   ]
  },
  {
   "cell_type": "code",
   "execution_count": 12,
   "id": "fe7d324f-2cfa-42d8-8e46-f1c2def7a2ff",
   "metadata": {},
   "outputs": [],
   "source": [
    "sample_mean = 75  \n",
    "population_std = 12  \n",
    "sample_size = 100  \n",
    "confidence_level = 0.90  \n",
    "z_score = 1.645  \n",
    "margin_of_error = z_score * (population_std / math.sqrt(sample_size))"
   ]
  },
  {
   "cell_type": "code",
   "execution_count": 13,
   "id": "2cedbde3-dfc3-46ec-90be-94e6f6c5e221",
   "metadata": {},
   "outputs": [],
   "source": [
    "lower_bound = sample_mean - margin_of_error\n",
    "upper_bound = sample_mean + margin_of_error"
   ]
  },
  {
   "cell_type": "code",
   "execution_count": 14,
   "id": "bb31e888-10d0-4449-ba2e-a26b12e8fd19",
   "metadata": {},
   "outputs": [
    {
     "name": "stdout",
     "output_type": "stream",
     "text": [
      "90% Confidence Interval: (73.03, 76.97)\n"
     ]
    }
   ],
   "source": [
    "print(\"90% Confidence Interval: ({:.2f}, {:.2f})\".format(lower_bound, upper_bound))"
   ]
  },
  {
   "cell_type": "markdown",
   "id": "ffa48870-77c1-4816-b438-1482519d03a0",
   "metadata": {},
   "source": [
    "# Q6. Use Python to plot the chi-square distribution with 10 degrees of freedom. Label the axes and shade the area corresponding to a chi-square statistic of 15."
   ]
  },
  {
   "cell_type": "markdown",
   "id": "fbd704db-95b9-47be-b177-9aa702ad7949",
   "metadata": {},
   "source": [
    "# Answer-6-"
   ]
  },
  {
   "cell_type": "code",
   "execution_count": 15,
   "id": "574e6ef8-7acf-417f-817d-805eafeac4b6",
   "metadata": {},
   "outputs": [],
   "source": [
    "import numpy as np\n",
    "import matplotlib.pyplot as plt\n",
    "import scipy.stats as stats"
   ]
  },
  {
   "cell_type": "code",
   "execution_count": 18,
   "id": "3cf279b0-6e96-4f15-9149-fff3b4e10c73",
   "metadata": {},
   "outputs": [
    {
     "data": {
      "image/png": "[encoded data removed]",
      "text/plain": [
       "<Figure size 640x480 with 1 Axes>"
      ]
     },
     "metadata": {},
     "output_type": "display_data"
    }
   ],
   "source": [
    "df = 10\n",
    "x = np.linspace(0, 30, 400)\n",
    "y = stats.chi2.pdf(x, df)  \n",
    "plt.plot(x, y, label='Chi-square (df=10)')\n",
    "x_shade = np.linspace(0, 15, 1000)\n",
    "y_shade = stats.chi2.pdf(x_shade, df)\n",
    "plt.fill_between(x_shade, y_shade, color='gray', alpha=0.5, where=(x_shade <= 15), label='Chi-square < 15')\n",
    "plt.xlabel('Chi-square statistic')\n",
    "plt.ylabel('Density')\n",
    "plt.title('Chi-square Distribution with 10 degrees of freedom')\n",
    "plt.legend()\n",
    "plt.show()"
   ]
  },
  {
   "cell_type": "markdown",
   "id": "d19916f6-758b-4c1c-984d-d88eeeeb2c49",
   "metadata": {},
   "source": [
    "# Q7. A random sample of 1000 people was asked if they preferred Coke or Pepsi. Of the sample, 520 preferred Coke. Calculate a 99% confidence interval for the true proportion of people in the population who prefer Coke."
   ]
  },
  {
   "cell_type": "markdown",
   "id": "9f5e0a1a-e5f7-41bf-a473-75aa5142bb83",
   "metadata": {},
   "source": [
    "# Answer-7-"
   ]
  },
  {
   "cell_type": "code",
   "execution_count": 19,
   "id": "39543424-646a-4448-a13c-15c7752b9aba",
   "metadata": {},
   "outputs": [
    {
     "name": "stdout",
     "output_type": "stream",
     "text": [
      "99% Confidence Interval: (0.4793, 0.5607)\n"
     ]
    }
   ],
   "source": [
    "sample_proportion = 520 / 1000  \n",
    "sample_size = 1000  \n",
    "confidence_level = 0.99  \n",
    "z_score = 2.576  \n",
    "margin_of_error = z_score * math.sqrt((sample_proportion * (1 - sample_proportion)) / sample_size)\n",
    "\n",
    "# Calculate the confidence interval\n",
    "lower_bound = sample_proportion - margin_of_error\n",
    "upper_bound = sample_proportion + margin_of_error\n",
    "\n",
    "print(\"99% Confidence Interval: ({:.4f}, {:.4f})\".format(lower_bound, upper_bound))"
   ]
  },
  {
   "cell_type": "markdown",
   "id": "e48a692b-0373-4d4a-b31f-edb7aa3357ed",
   "metadata": {},
   "source": [
    "# Q8. A researcher hypothesizes that a coin is biased towards tails. They flip the coin 100 times and observe 45 tails. Conduct a chi-square goodness of fit test to determine if the observed frequencies match the expected frequencies of a fair coin. Use a significance level of 0.05."
   ]
  },
  {
   "cell_type": "markdown",
   "id": "81ef2f61-4d9b-4963-b0cd-9269b554d057",
   "metadata": {},
   "source": [
    "# Answer-8-"
   ]
  },
  {
   "cell_type": "code",
   "execution_count": 20,
   "id": "432d05e1-7d76-4318-8dbb-487a4820520f",
   "metadata": {},
   "outputs": [],
   "source": [
    "total_flips = 100\n",
    "observed_tails = 45\n",
    "expected_tails = total_flips / 2  \n",
    "expected_heads = total_flips / 2  \n",
    "observed_frequencies = np.array([observed_tails, total_flips - observed_tails])\n",
    "expected_frequencies = np.array([expected_tails, expected_heads])\n",
    "chi2_stat, p_value = stats.chisquare(observed_frequencies, f_exp=expected_frequencies)\n",
    "degrees_of_freedom = len(observed_frequencies) - 1\n",
    "critical_chi2_value = stats.chi2.ppf(1 - 0.05, degrees_of_freedom)\n",
    "is_significant = chi2_stat > critical_chi2_value"
   ]
  },
  {
   "cell_type": "code",
   "execution_count": 21,
   "id": "333b4cd1-f726-40e4-ab84-e9cfad9f7032",
   "metadata": {},
   "outputs": [
    {
     "name": "stdout",
     "output_type": "stream",
     "text": [
      "Chi-square statistic: 1.0\n",
      "P-value: 0.31731050786291115\n",
      "Degrees of Freedom: 1\n",
      "Critical Chi-square Value: 3.841458820694124\n",
      "Is the result significant at 0.05 significance level? False\n"
     ]
    }
   ],
   "source": [
    "print(\"Chi-square statistic:\", chi2_stat)\n",
    "print(\"P-value:\", p_value)\n",
    "print(\"Degrees of Freedom:\", degrees_of_freedom)\n",
    "print(\"Critical Chi-square Value:\", critical_chi2_value)\n",
    "print(\"Is the result significant at 0.05 significance level?\", is_significant)"
   ]
  },
  {
   "cell_type": "markdown",
   "id": "bc1e07ac-792b-4c01-a715-94ac8e4568c4",
   "metadata": {},
   "source": [
    "# Q9. A study was conducted to determine if there is an association between smoking status (smoker or non-smoker) and lung cancer diagnosis (yes or no). The results are shown in the contingency table below. Conduct a chi-square test for independence to determine if there is a significant association between smoking status and lung cancer diagnosis.\n",
    "# Lung Cancer: Yes , lung cancer no\n",
    "\n",
    "# Smoker 60 140\n",
    "# Non-smoker 30 170\n",
    "# Use a significance level of 0.05."
   ]
  },
  {
   "cell_type": "markdown",
   "id": "3c5613c3-abc9-48dc-80dc-235aafa4aeb7",
   "metadata": {},
   "source": [
    "# Answer-9-"
   ]
  },
  {
   "cell_type": "code",
   "execution_count": 22,
   "id": "f0a12948-b524-4fa1-8d8b-c5cc36a2b5fc",
   "metadata": {},
   "outputs": [],
   "source": [
    "contingency_table = np.array([[60, 140],\n",
    "                              [30, 170]])\n",
    "\n",
    "chi2_stat, p_value, dof, expected = stats.chi2_contingency(contingency_table)\n",
    "degrees_of_freedom = (contingency_table.shape[0] - 1) * (contingency_table.shape[1] - 1)\n",
    "critical_chi2_value = stats.chi2.ppf(1 - 0.05, degrees_of_freedom)\n",
    "is_significant = chi2_stat > critical_chi2_value"
   ]
  },
  {
   "cell_type": "code",
   "execution_count": 23,
   "id": "f0dcd161-0b94-44ed-a7f0-6b45ce29c77d",
   "metadata": {},
   "outputs": [
    {
     "name": "stdout",
     "output_type": "stream",
     "text": [
      "Chi-square statistic: 12.057347670250895\n",
      "P-value: 0.0005158863863703744\n",
      "Degrees of Freedom: 1\n",
      "Critical Chi-square Value: 3.841458820694124\n",
      "Is the result significant at 0.05 significance level? True\n"
     ]
    }
   ],
   "source": [
    "print(\"Chi-square statistic:\", chi2_stat)\n",
    "print(\"P-value:\", p_value)\n",
    "print(\"Degrees of Freedom:\", degrees_of_freedom)\n",
    "print(\"Critical Chi-square Value:\", critical_chi2_value)\n",
    "print(\"Is the result significant at 0.05 significance level?\", is_significant)"
   ]
  },
  {
   "cell_type": "markdown",
   "id": "602bc377-0f29-4047-96a8-eb67c0544a84",
   "metadata": {},
   "source": [
    "# Q10. A study was conducted to determine if the proportion of people who prefer milk chocolate, dark chocolate, or white chocolate is different in the U.S. versus the U.K. A random sample of 500 people from the U.S. and a random sample of 500 people from the U.K. were surveyed. The results are shown in the contingency table below. Conduct a chi-square test for independence to determine if there is a significant association between chocolate preference and country of origin.\n",
    "# Milk Chocolate\n",
    "\n",
    "# U.S. (n=500) 200 150 150\n",
    "# U.K. (n=500) 225 175 100\n",
    "# Dark Chocolate White Chocolate\n",
    "# Use a significance level of 0.01."
   ]
  },
  {
   "cell_type": "code",
   "execution_count": 24,
   "id": "dee17a71-2f0a-40ad-8d28-2ddf4a7738dc",
   "metadata": {},
   "outputs": [],
   "source": [
    "contingency_table = np.array([[200, 150, 150],\n",
    "                              [225, 175, 100]])\n",
    "\n",
    "chi2_stat, p_value, dof, expected = stats.chi2_contingency(contingency_table)\n",
    "\n",
    "degrees_of_freedom = (contingency_table.shape[0] - 1) * (contingency_table.shape[1] - 1)\n",
    "\n",
    "critical_chi2_value = stats.chi2.ppf(1 - 0.01, degrees_of_freedom)\n",
    "is_significant = chi2_stat > critical_chi2_value"
   ]
  },
  {
   "cell_type": "code",
   "execution_count": 25,
   "id": "ec40c193-4572-4b80-a3c0-9c5788774f41",
   "metadata": {},
   "outputs": [
    {
     "name": "stdout",
     "output_type": "stream",
     "text": [
      "Chi-square statistic: 13.393665158371041\n",
      "P-value: 0.0012348168997745918\n",
      "Degrees of Freedom: 2\n",
      "Critical Chi-square Value: 9.21034037197618\n",
      "Is the result significant at 0.01 significance level? True\n"
     ]
    }
   ],
   "source": [
    "print(\"Chi-square statistic:\", chi2_stat)\n",
    "print(\"P-value:\", p_value)\n",
    "print(\"Degrees of Freedom:\", degrees_of_freedom)\n",
    "print(\"Critical Chi-square Value:\", critical_chi2_value)\n",
    "print(\"Is the result significant at 0.01 significance level?\", is_significant)"
   ]
  },
  {
   "cell_type": "markdown",
   "id": "2add1f0e-def8-4059-bfe2-d3921736e37c",
   "metadata": {},
   "source": [
    "# Q11. A random sample of 30 people was selected from a population with an unknown mean and standard deviation. The sample mean was found to be 72 and the sample standard deviation was found to be 10. Conduct a hypothesis test to determine if the population mean is significantly different from 70. Use a significance level of 0.05."
   ]
  },
  {
   "cell_type": "markdown",
   "id": "c8e69231-9b51-4d85-853d-d5aaedcff946",
   "metadata": {},
   "source": [
    "# Answer-11-"
   ]
  },
  {
   "cell_type": "code",
   "execution_count": 26,
   "id": "db68662c-1d29-428f-88e8-08a7ce86abe5",
   "metadata": {},
   "outputs": [],
   "source": [
    "sample_mean = 72  \n",
    "sample_std = 10   \n",
    "population_mean = 70 \n",
    "n = 30\n",
    "t_statistic = (sample_mean - population_mean) / (sample_std / np.sqrt(n))\n",
    "degrees_of_freedom = n - 1"
   ]
  },
  {
   "cell_type": "code",
   "execution_count": 27,
   "id": "1001bdc7-77de-44d3-b183-4438eb02b268",
   "metadata": {},
   "outputs": [],
   "source": [
    "critical_t_value_lower = stats.t.ppf(0.025, degrees_of_freedom)\n",
    "critical_t_value_upper = stats.t.ppf(1 - 0.025, degrees_of_freedom)\n",
    "is_significant = t_statistic < critical_t_value_lower or t_statistic > critical_t_value_upper"
   ]
  },
  {
   "cell_type": "code",
   "execution_count": 28,
   "id": "59939f90-ac05-49da-9dac-4e07f1ddcd19",
   "metadata": {},
   "outputs": [
    {
     "name": "stdout",
     "output_type": "stream",
     "text": [
      "T-statistic: 1.0954451150103321\n",
      "Critical t-value (lower): -2.0452296421327034\n",
      "Critical t-value (upper): 2.045229642132703\n",
      "Is the result significant at 0.05 significance level? False\n"
     ]
    }
   ],
   "source": [
    "print(\"T-statistic:\", t_statistic)\n",
    "print(\"Critical t-value (lower):\", critical_t_value_lower)\n",
    "print(\"Critical t-value (upper):\", critical_t_value_upper)\n",
    "print(\"Is the result significant at 0.05 significance level?\", is_significant)"
   ]
  },
  {
   "cell_type": "markdown",
   "id": "7d09a8ec-c25e-4b56-9b99-10d9b44beb42",
   "metadata": {},
   "source": [
    "# Completed  Assignment"
   ]
  }
 ],
 "metadata": {
  "kernelspec": {
   "display_name": "Python 3 (ipykernel)",
   "language": "python",
   "name": "python3"
  },
  "language_info": {
   "codemirror_mode": {
    "name": "ipython",
    "version": 3
   },
   "file_extension": ".py",
   "mimetype": "text/x-python",
   "name": "python",
   "nbconvert_exporter": "python",
   "pygments_lexer": "ipython3",
   "version": "3.10.8"
  }
 },
 "nbformat": 4,
 "nbformat_minor": 5
}
